{
 "cells": [
  {
   "cell_type": "markdown",
   "metadata": {},
   "source": [
    "### imports"
   ]
  },
  {
   "cell_type": "code",
   "execution_count": 11,
   "metadata": {},
   "outputs": [],
   "source": [
    "import json\n",
    "import pickle\n",
    "import re\n",
    "import numpy as np\n",
    "import pandas as pd\n",
    "from Datasets import *\n",
    "from tqdm.notebook import tqdm\n",
    "import torch\n",
    "from torch.nn import DataParallel\n",
    "from torch.utils.data import DataLoader, RandomSampler\n",
    "from sklearn.metrics import roc_curve, jaccard_score, accuracy_score\n",
    "from sklearn.metrics import average_precision_score, coverage_error, label_ranking_average_precision_score, label_ranking_loss, roc_auc_score\n",
    "import seaborn as sns\n",
    "from models import PreBuildConverter\n",
    "from functools import partial\n",
    "from CKA_torch import CkaLoss\n",
    "import os\n",
    "import matplotlib.pylab as plt\n",
    "import matplotlib\n",
    "from itertools import combinations\n",
    "%matplotlib notebook\n",
    "from IPython.core.interactiveshell import InteractiveShell\n",
    "InteractiveShell.ast_node_interactivity = \"all\""
   ]
  },
  {
   "cell_type": "markdown",
   "metadata": {},
   "source": [
    "### loading dataset and models "
   ]
  },
  {
   "cell_type": "code",
   "execution_count": 12,
   "metadata": {},
   "outputs": [],
   "source": [
    "model_dir = 'work_space/save/CheXpert'"
   ]
  },
  {
   "cell_type": "code",
   "execution_count": 13,
   "metadata": {},
   "outputs": [],
   "source": [
    "# paren are probes\n",
    "chexpert_paren = {\n",
    "    'No_finding': 1,\n",
    "    'parenchymal': 1,\n",
    "    'extraparenchymal': 0,\n",
    "    'limit_out_labels': 1,\n",
    "    'with_rank':True,\n",
    "    'with_path':True\n",
    "}\n",
    "                  \n",
    "train, test, in_out, out_out = get_chexpert(**chexpert_paren)\n",
    "dloader_args = {\n",
    "        'batch_size': 50,\n",
    "        'pin_memory': False,\n",
    "        'num_workers': 0,\n",
    "        'drop_last': False,\n",
    "}\n",
    "\n",
    "train_sampler = RandomSampler(train, replacement=True, num_samples=len(train))\n",
    "train = DataLoader(train, sampler=train_sampler, **dloader_args)\n",
    "\n",
    "eval_sampler = RandomSampler(test, replacement=True, num_samples=len(test))\n",
    "test = DataLoader(test, sampler=eval_sampler, **dloader_args)\n",
    "\n",
    "in_out_sampler = RandomSampler(in_out, replacement=True, num_samples=len(in_out)//10)\n",
    "in_out = DataLoader(in_out, sampler=in_out_sampler, **dloader_args)\n",
    "\n",
    "out_out_sampler = RandomSampler(out_out, replacement=True, num_samples=len(out_out))\n",
    "out_out = DataLoader(out_out, sampler=out_out_sampler, **dloader_args)"
   ]
  },
  {
   "cell_type": "code",
   "execution_count": 115,
   "metadata": {},
   "outputs": [
    {
     "data": {
      "text/plain": [
       "No Finding                    0.413269\n",
       "Pneumothorax                  0.129036\n",
       "Pleural Effusion              0.128688\n",
       "Enlarged Cardiomediastinum    0.097829\n",
       "Cardiomegaly                  0.097690\n",
       "Fracture                      0.070589\n",
       "Support Devices               0.034512\n",
       "Pleural Other                 0.028389\n",
       "dtype: float64"
      ]
     },
     "execution_count": 115,
     "metadata": {},
     "output_type": "execute_result"
    }
   ],
   "source": [
    "pd.Series(train.dataset.rank_labels.numpy()).map((dict(enumerate(train.dataset.label_names)))).value_counts(normalize=True)"
   ]
  },
  {
   "cell_type": "code",
   "execution_count": 155,
   "metadata": {},
   "outputs": [
    {
     "data": {
      "text/plain": [
       "none        0.563119\n",
       "fracture    0.175824\n",
       "lung        0.175350\n",
       "supp        0.047025\n",
       "cardio      0.038682\n",
       "dtype: float64"
      ]
     },
     "execution_count": 155,
     "metadata": {},
     "output_type": "execute_result"
    }
   ],
   "source": [
    "pd.Series(train.dataset.rank_labels.numpy()).map((dict(enumerate(['none', 'supp', 'lung', 'cardio', 'fracture'])))).value_counts(normalize=True)"
   ]
  },
  {
   "cell_type": "code",
   "execution_count": 156,
   "metadata": {},
   "outputs": [],
   "source": [
    "label_ = np.concatenate([train.dataset.labels[:, :2],\n",
    "train.dataset.labels[:, 2:5].sum(1)[:,None], #Pleural Effusion', 'Pleural Other', 'Pneumothorax'\n",
    "train.dataset.labels[:, 5:7].sum(1)[:,None], # 'Cardiomegaly', 'Enlarged Cardiomediastinum'\n",
    "train.dataset.labels[:, 7:]], axis=1)"
   ]
  },
  {
   "cell_type": "code",
   "execution_count": 4,
   "metadata": {
    "scrolled": true
   },
   "outputs": [
    {
     "data": {
      "text/plain": [
       "5"
      ]
     },
     "execution_count": 4,
     "metadata": {},
     "output_type": "execute_result"
    }
   ],
   "source": [
    "train.dataset.rank_labels.max().item() + 1"
   ]
  },
  {
   "cell_type": "markdown",
   "metadata": {},
   "source": [
    "### calc emmbeddings"
   ]
  },
  {
   "cell_type": "code",
   "execution_count": 18,
   "metadata": {},
   "outputs": [],
   "source": [
    "def load_fix(target_path):\n",
    "    a = torch.load(target_path)#, map_location=lambda storage, loc: storage.cuda())\n",
    "    fixed_a = {k.split('module.')[-1]: a[k] for k in a}\n",
    "    torch.save(fixed_a, target_path)\n",
    "\n",
    "def get_model(target_path, model_type='densenet121'):\n",
    "    build_model = PreBuildConverter(in_channels=3, out_classes=len(test.dataset.label_names),\n",
    "                                    add_rank=True, pretrained=False)\n",
    "\n",
    "    model = build_model.get_by_str(model_type)\n",
    "    load_fix(target_path)\n",
    "    model.load_state_dict(torch.load(target_path))\n",
    "    model.train(mode=False)\n",
    "    return model\n",
    "\n",
    "def make_scores_pair(model_paths, loader, train=False, layer='class', rank=False, model_type='densenet121'):\n",
    "    models = [get_model(model, model_type=model_type).to('cuda') for model in model_paths] # #\n",
    "    thetas = [[] for i in range(len(model_paths))]\n",
    "    rank_thetas = [[] for i in range(len(model_paths))]\n",
    "    labels = []\n",
    "    rank_labels = []\n",
    "    cka_class_loss = CkaLoss(models, ['rank_classifier'])\n",
    "    cka_class_losses = []\n",
    "    paths = []\n",
    "    for imgs, label, path in tqdm(loader, total=len(loader)):\n",
    "        for i,model in enumerate(models):\n",
    "            theta, rank_theta = model(imgs.cuda())\n",
    "            rank_thetas[i].append(rank_theta.detach().cpu().numpy())\n",
    "            thetas[i].append(theta.detach().cpu().numpy())\n",
    "        if rank:\n",
    "            label, rank_label = label\n",
    "            rank_labels.append(rank_label.cpu().numpy())\n",
    "        labels.append(label.cpu().numpy())\n",
    "        cka_class_losses.append(cka_class_loss().detach().cpu().numpy().item())\n",
    "        paths.append(path)\n",
    "        \n",
    "    for model in models: del model\n",
    "    torch.cuda.empty_cache()\n",
    "    \n",
    "    paths = np.concatenate(paths)\n",
    "    labels = np.concatenate(labels)\n",
    "    rank_labels = [] if not rank else np.concatenate(rank_labels)\n",
    "    cka_class_losses = np.array(cka_class_losses)\n",
    "    thetas = [np.concatenate(x) for x in thetas]\n",
    "    rank_thetas = [np.concatenate(x) for x in rank_thetas]\n",
    "    \n",
    "    return thetas, labels, rank_thetas, rank_labels, cka_class_losses, paths"
   ]
  },
  {
   "cell_type": "markdown",
   "metadata": {},
   "source": [
    "### fuser funcs"
   ]
  },
  {
   "cell_type": "code",
   "execution_count": 15,
   "metadata": {},
   "outputs": [],
   "source": [
    "def thresh_calibration(thetas, labels):\n",
    "    model_calibration = []\n",
    "    for i in range(len(thetas)):\n",
    "        curr_prob = thetas[i]\n",
    "        curr_thresh = []\n",
    "        for j in range(curr_prob.shape[1]):\n",
    "            fpr, tpr, thresholds = roc_curve(labels[:, j], curr_prob[:, j])\n",
    "            optimal_idx = np.argmax(tpr - fpr)\n",
    "            curr_thresh.append(thresholds[optimal_idx])\n",
    "        model_calibration.append(curr_thresh)\n",
    "    return model_calibration\n",
    "\n",
    "def thresh_fuser(mat_a, mat_b, threshhold_a, threshhold_b):\n",
    "    return (mat_a >= threshhold_a) & (mat_b >= threshhold_b)\n",
    "\n",
    "def fuser(thetas, labels, calibration_th, n_classes=7, metric=None):\n",
    "    labels = labels[:, :n_classes]\n",
    "    fuse_prediction = thresh_fuser(thetas[0], thetas[1], calibration_th[0], calibration_th[1])\n",
    "    if metric is None:\n",
    "        return (fuse_prediction == labels).mean(0)\n",
    "    else:\n",
    "        return metric(labels, fuse_prediction)\n",
    "\n",
    "def fuser_ood(thetas, labels, calibration_th, n_classes=7, metric=None):\n",
    "    labels = labels[:, :n_classes]\n",
    "    fuse_prediction = thresh_fuser(thetas[0], thetas[1], calibration_th[0], calibration_th[1])\n",
    "    if metric is None:\n",
    "        return (fuse_prediction.sum(1) < 1).mean()\n",
    "    else:\n",
    "        metric(labels, fuse_prediction)"
   ]
  },
  {
   "cell_type": "markdown",
   "metadata": {},
   "source": [
    "### model estimators"
   ]
  },
  {
   "cell_type": "code",
   "execution_count": 19,
   "metadata": {},
   "outputs": [],
   "source": [
    "def get_model_performance(use_model, model_type='densenet121'):\n",
    "    print(use_model)\n",
    "    use_model = [os.path.join(use_model, model_path) for model_path in \n",
    "               os.listdir(use_model) if 'model' in model_path]\n",
    "    \n",
    "    model_in_out_res = make_scores_pair(use_model, in_out, train=True, model_type=model_type)\n",
    "    model_train = make_scores_pair(use_model, train, train=True, rank=True, model_type=model_type)\n",
    "    model_test_res = make_scores_pair(use_model, test, train=True, rank=True, model_type=model_type)\n",
    "    model_out_res = make_scores_pair(use_model, out_out, train=True, model_type=model_type)\n",
    "    \n",
    "    model_calibration = thresh_calibration(model_train[0], model_train[1])\n",
    "    test_res = fuser(model_test_res[0], model_test_res[1], model_calibration)\n",
    "    print(test_res)\n",
    "    out_res = fuser(model_out_res[0], model_out_res[1], model_calibration)\n",
    "    print(out_res)\n",
    "    in_out_res = fuser(model_in_out_res[0], model_in_out_res[1], model_calibration)\n",
    "    print(in_out_res)\n",
    "    ood_out = fuser_ood(model_out_res[0], model_out_res[1], model_calibration)\n",
    "    print(ood_out)\n",
    "    ood_in = fuser_ood(model_in_out_res[0], model_in_out_res[1], model_calibration)\n",
    "    print(ood_in)\n",
    "    res = dict({'train':model_train, 'test':model_test_res, 'in_out':model_in_out_res, 'out':model_out_res,\n",
    "                'calibration': model_calibration, 'test_res': test_res, 'in_out_res':in_out_res, 'out_res':out_res,\n",
    "                'ood_out':ood_out, 'ood_in':ood_in\n",
    "               })\n",
    "    return res"
   ]
  },
  {
   "cell_type": "code",
   "execution_count": 94,
   "metadata": {},
   "outputs": [
    {
     "data": {
      "text/plain": [
       "array(['No Finding', 'Lung Lesion', 'Lung Opacity', 'Edema',\n",
       "       'Consolidation', 'Pneumonia', 'Atelectasis', 'Support Devices',\n",
       "       'Pleural Effusion', 'Pleural Other', 'Pneumothorax',\n",
       "       'Cardiomegaly', 'Enlarged Cardiomediastinum', 'Fracture'],\n",
       "      dtype=object)"
      ]
     },
     "execution_count": 94,
     "metadata": {},
     "output_type": "execute_result"
    }
   ],
   "source": [
    "out_out.dataset.label_names"
   ]
  },
  {
   "cell_type": "markdown",
   "metadata": {},
   "source": [
    "### load rank models"
   ]
  },
  {
   "cell_type": "code",
   "execution_count": 61,
   "metadata": {
    "scrolled": false
   },
   "outputs": [
    {
     "data": {
      "text/plain": [
       "['2020-07-14_10:09_n=2_densenet121_lr=0.0001_m=_a=0_52_p=False_mean=False_cka=False_pre_pre_layers=-1_-1_pre_steps=100_50_clean-int-ext=1-1-0_limited=1_rank_alpha=0.2_rank_pearson=0',\n",
       " '2020-07-14_09:50_n=2_densenet121_lr=0.0001_m=_a=0_52_p=False_mean=False_cka=False_pre_pre_layers=-1_-1_pre_steps=100_50_clean-int-ext=1-1-0_limited=1_rank_alpha=0.01_rank_pearson=0',\n",
       " '2020-07-14_10:09_n=2_densenet121_lr=0.0001_m=_a=0_52_p=False_mean=False_cka=False_pre_pre_layers=-1_-1_pre_steps=100_50_clean-int-ext=1-1-0_limited=1_rank_alpha=0.1_rank_pearson=0',\n",
       " '2020-07-14_09:50_n=2_densenet121_lr=0.0001_m=_a=0_52_p=False_mean=False_cka=False_pre_pre_layers=-1_-1_pre_steps=100_50_clean-int-ext=1-1-0_limited=1_rank_alpha=0.05_rank_pearson=0']"
      ]
     },
     "execution_count": 61,
     "metadata": {},
     "output_type": "execute_result"
    }
   ],
   "source": [
    "os.listdir(model_dir +\"/Rank\")"
   ]
  },
  {
   "cell_type": "code",
   "execution_count": 62,
   "metadata": {},
   "outputs": [],
   "source": [
    "rank_model_list = [model_dir+'/Rank/'+d for d in os.listdir(model_dir +'/'+\"Rank\")]"
   ]
  },
  {
   "cell_type": "code",
   "execution_count": 73,
   "metadata": {},
   "outputs": [],
   "source": [
    "l = [8707, 6651, 2597, 1364, 765, 343, 430]\n",
    "l = [1375, 3553, 2935, 2142, 2830, 6651, 1371]"
   ]
  },
  {
   "cell_type": "code",
   "execution_count": 74,
   "metadata": {},
   "outputs": [
    {
     "data": {
      "text/plain": [
       "No Finding       0.065925\n",
       "Lung Lesion      0.170350\n",
       "Lung Opacity     0.140720\n",
       "Edema            0.102699\n",
       "Consolidation    0.135686\n",
       "Pneumonia        0.318886\n",
       "Atelectasis      0.065733\n",
       "dtype: float64"
      ]
     },
     "execution_count": 74,
     "metadata": {},
     "output_type": "execute_result"
    }
   ],
   "source": [
    "pd.Series(np.array(l) / sum(l), index=test.dataset.label_names)"
   ]
  },
  {
   "cell_type": "code",
   "execution_count": 72,
   "metadata": {},
   "outputs": [
    {
     "data": {
      "text/plain": [
       "No Finding       0.417462\n",
       "Lung Lesion      0.318886\n",
       "Lung Opacity     0.124515\n",
       "Edema            0.065398\n",
       "Consolidation    0.036678\n",
       "Pneumonia        0.016445\n",
       "Atelectasis      0.020617\n",
       "dtype: float64"
      ]
     },
     "execution_count": 72,
     "metadata": {},
     "output_type": "execute_result"
    }
   ],
   "source": [
    "pd.Series(np.array(l) / sum(l), index=test.dataset.label_names)"
   ]
  },
  {
   "cell_type": "code",
   "execution_count": 67,
   "metadata": {
    "scrolled": true
   },
   "outputs": [
    {
     "name": "stdout",
     "output_type": "stream",
     "text": [
      "work_space/save/CheXpert/Rank/2020-07-14_10:09_n=2_densenet121_lr=0.0001_m=_a=0_52_p=False_mean=False_cka=False_pre_pre_layers=-1_-1_pre_steps=100_50_clean-int-ext=1-1-0_limited=1_rank_alpha=0.2_rank_pearson=0\n"
     ]
    },
    {
     "data": {
      "application/vnd.jupyter.widget-view+json": {
       "model_id": "014a21d4b6a246208e24772658796864",
       "version_major": 2,
       "version_minor": 0
      },
      "text/plain": [
       "HBox(children=(FloatProgress(value=0.0, max=269.0), HTML(value='')))"
      ]
     },
     "metadata": {},
     "output_type": "display_data"
    },
    {
     "name": "stdout",
     "output_type": "stream",
     "text": [
      "\n"
     ]
    },
    {
     "data": {
      "application/vnd.jupyter.widget-view+json": {
       "model_id": "ed8fc763c3df44ccaea3766774e2722a",
       "version_major": 2,
       "version_minor": 0
      },
      "text/plain": [
       "HBox(children=(FloatProgress(value=0.0, max=418.0), HTML(value='')))"
      ]
     },
     "metadata": {},
     "output_type": "display_data"
    },
    {
     "name": "stdout",
     "output_type": "stream",
     "text": [
      "\n"
     ]
    },
    {
     "data": {
      "application/vnd.jupyter.widget-view+json": {
       "model_id": "d182565231cc41e8863287cbd6b3f8ca",
       "version_major": 2,
       "version_minor": 0
      },
      "text/plain": [
       "HBox(children=(FloatProgress(value=0.0, max=183.0), HTML(value='')))"
      ]
     },
     "metadata": {},
     "output_type": "display_data"
    },
    {
     "name": "stdout",
     "output_type": "stream",
     "text": [
      "\n"
     ]
    },
    {
     "data": {
      "application/vnd.jupyter.widget-view+json": {
       "model_id": "a49c094c4b9e4590a6ffaaa4b652b0ff",
       "version_major": 2,
       "version_minor": 0
      },
      "text/plain": [
       "HBox(children=(FloatProgress(value=0.0, max=481.0), HTML(value='')))"
      ]
     },
     "metadata": {},
     "output_type": "display_data"
    },
    {
     "name": "stdout",
     "output_type": "stream",
     "text": [
      "\n",
      "[0.78703805 0.92564974 0.62945498 0.7914245  0.78638009 0.79888146\n",
      " 0.73078188]\n",
      "[0.73742204 0.98515593 0.77488565 0.86952183 0.91197505 0.95629938\n",
      " 0.864158  ]\n",
      "[0.92293387 0.9509782  0.50613702 0.68489177 0.70118277 0.83456074\n",
      " 0.61816559]\n",
      "0.2998336798336798\n",
      "0.20851000520717103\n",
      "work_space/save/CheXpert/Rank/2020-07-14_09:50_n=2_densenet121_lr=0.0001_m=_a=0_52_p=False_mean=False_cka=False_pre_pre_layers=-1_-1_pre_steps=100_50_clean-int-ext=1-1-0_limited=1_rank_alpha=0.01_rank_pearson=0\n"
     ]
    },
    {
     "data": {
      "application/vnd.jupyter.widget-view+json": {
       "model_id": "f3b56f6033c8493a9f20ed9539f642d5",
       "version_major": 2,
       "version_minor": 0
      },
      "text/plain": [
       "HBox(children=(FloatProgress(value=0.0, max=269.0), HTML(value='')))"
      ]
     },
     "metadata": {},
     "output_type": "display_data"
    },
    {
     "name": "stdout",
     "output_type": "stream",
     "text": [
      "\n"
     ]
    },
    {
     "data": {
      "application/vnd.jupyter.widget-view+json": {
       "model_id": "6d280c3122e14899807d7429fb7e5577",
       "version_major": 2,
       "version_minor": 0
      },
      "text/plain": [
       "HBox(children=(FloatProgress(value=0.0, max=418.0), HTML(value='')))"
      ]
     },
     "metadata": {},
     "output_type": "display_data"
    },
    {
     "name": "stdout",
     "output_type": "stream",
     "text": [
      "\n"
     ]
    },
    {
     "data": {
      "application/vnd.jupyter.widget-view+json": {
       "model_id": "90600d65b0f44d84a140fe377ae24c08",
       "version_major": 2,
       "version_minor": 0
      },
      "text/plain": [
       "HBox(children=(FloatProgress(value=0.0, max=183.0), HTML(value='')))"
      ]
     },
     "metadata": {},
     "output_type": "display_data"
    },
    {
     "name": "stdout",
     "output_type": "stream",
     "text": [
      "\n"
     ]
    },
    {
     "data": {
      "application/vnd.jupyter.widget-view+json": {
       "model_id": "93b421a7cf4945df8b9fa3dbea0e0418",
       "version_major": 2,
       "version_minor": 0
      },
      "text/plain": [
       "HBox(children=(FloatProgress(value=0.0, max=481.0), HTML(value='')))"
      ]
     },
     "metadata": {},
     "output_type": "display_data"
    },
    {
     "name": "stdout",
     "output_type": "stream",
     "text": [
      "\n",
      "[0.79668823 0.92652703 0.63351245 0.79032789 0.78265161 0.79613993\n",
      " 0.73352341]\n",
      "[0.71488565 0.98873181 0.78706861 0.86665281 0.91775468 0.95575884\n",
      " 0.86823285]\n",
      "[0.9164621  0.95335863 0.48902775 0.6808748  0.70743138 0.83396563\n",
      " 0.61347913]\n",
      "0.2954261954261954\n",
      "0.21252696570705942\n",
      "work_space/save/CheXpert/Rank/2020-07-14_10:09_n=2_densenet121_lr=0.0001_m=_a=0_52_p=False_mean=False_cka=False_pre_pre_layers=-1_-1_pre_steps=100_50_clean-int-ext=1-1-0_limited=1_rank_alpha=0.1_rank_pearson=0\n"
     ]
    },
    {
     "data": {
      "application/vnd.jupyter.widget-view+json": {
       "model_id": "1bf981efede74373b802900427d88ab1",
       "version_major": 2,
       "version_minor": 0
      },
      "text/plain": [
       "HBox(children=(FloatProgress(value=0.0, max=269.0), HTML(value='')))"
      ]
     },
     "metadata": {},
     "output_type": "display_data"
    },
    {
     "name": "stdout",
     "output_type": "stream",
     "text": [
      "\n"
     ]
    },
    {
     "data": {
      "application/vnd.jupyter.widget-view+json": {
       "model_id": "398da342292b40fe8c7ec122c89915f2",
       "version_major": 2,
       "version_minor": 0
      },
      "text/plain": [
       "HBox(children=(FloatProgress(value=0.0, max=418.0), HTML(value='')))"
      ]
     },
     "metadata": {},
     "output_type": "display_data"
    },
    {
     "name": "stdout",
     "output_type": "stream",
     "text": [
      "\n"
     ]
    },
    {
     "data": {
      "application/vnd.jupyter.widget-view+json": {
       "model_id": "d0c3fb26887545cab78b5e310dfa22c3",
       "version_major": 2,
       "version_minor": 0
      },
      "text/plain": [
       "HBox(children=(FloatProgress(value=0.0, max=183.0), HTML(value='')))"
      ]
     },
     "metadata": {},
     "output_type": "display_data"
    },
    {
     "name": "stdout",
     "output_type": "stream",
     "text": [
      "\n"
     ]
    },
    {
     "data": {
      "application/vnd.jupyter.widget-view+json": {
       "model_id": "96d6cb757e204a1fa10a81cc4c1f53da",
       "version_major": 2,
       "version_minor": 0
      },
      "text/plain": [
       "HBox(children=(FloatProgress(value=0.0, max=481.0), HTML(value='')))"
      ]
     },
     "metadata": {},
     "output_type": "display_data"
    },
    {
     "name": "stdout",
     "output_type": "stream",
     "text": [
      "\n",
      "[0.78495449 0.92959754 0.63186753 0.79230179 0.78780568 0.80107468\n",
      " 0.73286545]\n",
      "[0.72336798 0.98939709 0.77858628 0.86977131 0.92253638 0.9604158\n",
      " 0.88390852]\n",
      "[0.92509113 0.94971361 0.49408614 0.68861117 0.7028937  0.84021424\n",
      " 0.62590196]\n",
      "0.30735966735966735\n",
      "0.22219742616975377\n",
      "work_space/save/CheXpert/Rank/2020-07-14_09:50_n=2_densenet121_lr=0.0001_m=_a=0_52_p=False_mean=False_cka=False_pre_pre_layers=-1_-1_pre_steps=100_50_clean-int-ext=1-1-0_limited=1_rank_alpha=0.05_rank_pearson=0\n"
     ]
    },
    {
     "data": {
      "application/vnd.jupyter.widget-view+json": {
       "model_id": "60d10bd8bdb34b6fa2f290e637fced3b",
       "version_major": 2,
       "version_minor": 0
      },
      "text/plain": [
       "HBox(children=(FloatProgress(value=0.0, max=269.0), HTML(value='')))"
      ]
     },
     "metadata": {},
     "output_type": "display_data"
    },
    {
     "name": "stdout",
     "output_type": "stream",
     "text": [
      "\n"
     ]
    },
    {
     "data": {
      "application/vnd.jupyter.widget-view+json": {
       "model_id": "57aeae97c28748b5aafc8409cef37999",
       "version_major": 2,
       "version_minor": 0
      },
      "text/plain": [
       "HBox(children=(FloatProgress(value=0.0, max=418.0), HTML(value='')))"
      ]
     },
     "metadata": {},
     "output_type": "display_data"
    },
    {
     "name": "stdout",
     "output_type": "stream",
     "text": [
      "\n"
     ]
    },
    {
     "data": {
      "application/vnd.jupyter.widget-view+json": {
       "model_id": "582c6f269eab4aef848790db2b6c0398",
       "version_major": 2,
       "version_minor": 0
      },
      "text/plain": [
       "HBox(children=(FloatProgress(value=0.0, max=183.0), HTML(value='')))"
      ]
     },
     "metadata": {},
     "output_type": "display_data"
    },
    {
     "name": "stdout",
     "output_type": "stream",
     "text": [
      "\n"
     ]
    },
    {
     "data": {
      "application/vnd.jupyter.widget-view+json": {
       "model_id": "a09c3f61dc8e4e49872ad91ba0e394cb",
       "version_major": 2,
       "version_minor": 0
      },
      "text/plain": [
       "HBox(children=(FloatProgress(value=0.0, max=481.0), HTML(value='')))"
      ]
     },
     "metadata": {},
     "output_type": "display_data"
    },
    {
     "name": "stdout",
     "output_type": "stream",
     "text": [
      "\n",
      "[0.78681873 0.92608839 0.62561684 0.78769602 0.79274043 0.80513214\n",
      " 0.74416054]\n",
      "[0.74054054 0.98731809 0.77580042 0.8770894  0.92195426 0.96203742\n",
      " 0.86070686]\n",
      "[0.92933125 0.95015993 0.5018969  0.68898311 0.71100201 0.83798259\n",
      " 0.62032284]\n",
      "0.31654885654885656\n",
      "0.21691586699397455\n"
     ]
    }
   ],
   "source": [
    "rank_results = {model:get_model_performance(model) for model in rank_model_list}"
   ]
  },
  {
   "cell_type": "code",
   "execution_count": 68,
   "metadata": {},
   "outputs": [],
   "source": [
    "pickle.dump(rank_results, open('rank_res', 'wb'))\n",
    "#rank_results = pickle.load(open('rank_res', 'rb'))"
   ]
  },
  {
   "cell_type": "code",
   "execution_count": 22,
   "metadata": {},
   "outputs": [],
   "source": [
    "def get_agreemnet(res):\n",
    "    res_1 = []\n",
    "    emba, embb = res['train'][2]\n",
    "    res_1.append((np.argmax(emba, 1) == np.argmax(embb, 1)).mean())\n",
    "    emba, embb = res['test'][2]\n",
    "    res_1.append((np.argmax(emba, 1) == np.argmax(embb, 1)).mean())\n",
    "    emba, embb = res['out'][2]\n",
    "    res_1.append((np.argmax(emba, 1) == np.argmax(embb, 1)).mean())\n",
    "    emba, embb = res['in_out'][2]\n",
    "    res_1.append((np.argmax(emba, 1) == np.argmax(embb, 1)).mean())\n",
    "    return res_1"
   ]
  },
  {
   "cell_type": "code",
   "execution_count": 70,
   "metadata": {},
   "outputs": [
    {
     "name": "stdout",
     "output_type": "stream",
     "text": [
      "work_space/save/CheXpert/Rank/2020-07-14_10:09_n=2_densenet121_lr=0.0001_m=_a=0_52_p=False_mean=False_cka=False_pre_pre_layers=-1_-1_pre_steps=100_50_clean-int-ext=1-1-0_limited=1_rank_alpha=0.2_rank_pearson=0\n"
     ]
    },
    {
     "data": {
      "text/plain": [
       "[0.931821450831855,\n",
       " 0.47779361772124135,\n",
       " 0.4414968814968815,\n",
       " 0.4040764710258127]"
      ]
     },
     "execution_count": 70,
     "metadata": {},
     "output_type": "execute_result"
    },
    {
     "name": "stdout",
     "output_type": "stream",
     "text": [
      "work_space/save/CheXpert/Rank/2020-07-14_09:50_n=2_densenet121_lr=0.0001_m=_a=0_52_p=False_mean=False_cka=False_pre_pre_layers=-1_-1_pre_steps=100_50_clean-int-ext=1-1-0_limited=1_rank_alpha=0.01_rank_pearson=0\n"
     ]
    },
    {
     "data": {
      "text/plain": [
       "[0.8226494702018508,\n",
       " 0.7821033008005264,\n",
       " 0.8046569646569647,\n",
       " 0.6803540876292494]"
      ]
     },
     "execution_count": 70,
     "metadata": {},
     "output_type": "execute_result"
    },
    {
     "name": "stdout",
     "output_type": "stream",
     "text": [
      "work_space/save/CheXpert/Rank/2020-07-14_10:09_n=2_densenet121_lr=0.0001_m=_a=0_52_p=False_mean=False_cka=False_pre_pre_layers=-1_-1_pre_steps=100_50_clean-int-ext=1-1-0_limited=1_rank_alpha=0.1_rank_pearson=0\n"
     ]
    },
    {
     "data": {
      "text/plain": [
       "[0.947499640408496,\n",
       " 0.5018094089264173,\n",
       " 0.46074844074844074,\n",
       " 0.4112177341367254]"
      ]
     },
     "execution_count": 70,
     "metadata": {},
     "output_type": "execute_result"
    },
    {
     "name": "stdout",
     "output_type": "stream",
     "text": [
      "work_space/save/CheXpert/Rank/2020-07-14_09:50_n=2_densenet121_lr=0.0001_m=_a=0_52_p=False_mean=False_cka=False_pre_pre_layers=-1_-1_pre_steps=100_50_clean-int-ext=1-1-0_limited=1_rank_alpha=0.05_rank_pearson=0\n"
     ]
    },
    {
     "data": {
      "text/plain": [
       "[0.7803135637915328,\n",
       " 0.5173812918083123,\n",
       " 0.47442827442827445,\n",
       " 0.4278806813955218]"
      ]
     },
     "execution_count": 70,
     "metadata": {},
     "output_type": "execute_result"
    }
   ],
   "source": [
    "for model in rank_results:\n",
    "    print(model)\n",
    "    get_agreemnet(rank_results[model])"
   ]
  },
  {
   "cell_type": "code",
   "execution_count": 91,
   "metadata": {},
   "outputs": [
    {
     "data": {
      "text/plain": [
       "0.40092115363526704"
      ]
     },
     "execution_count": 91,
     "metadata": {},
     "output_type": "execute_result"
    }
   ],
   "source": [
    "ind = 2\n",
    "res_2 = []\n",
    "emba, embb = rank_results[list(rank_results.keys())[ind]]['test'][2]\n",
    "(np.argmax((emba + embb) / 2, 1) == rank_results[list(rank_results.keys())[ind]]['test'][3]).mean()"
   ]
  },
  {
   "cell_type": "code",
   "execution_count": 88,
   "metadata": {},
   "outputs": [
    {
     "data": {
      "text/plain": [
       "array([0, 6, 0, ..., 5, 4, 4])"
      ]
     },
     "execution_count": 88,
     "metadata": {},
     "output_type": "execute_result"
    }
   ],
   "source": [
    "rank_results[list(rank_results.keys())[ind]]['test'][3]"
   ]
  },
  {
   "cell_type": "markdown",
   "metadata": {},
   "source": [
    "### vgg trail"
   ]
  },
  {
   "cell_type": "code",
   "execution_count": 7,
   "metadata": {},
   "outputs": [],
   "source": [
    "rank_model_list = [model_dir+'/Rank/'+d for d in os.listdir(model_dir +'/'+\"Rank\") if 'vgg' in d]"
   ]
  },
  {
   "cell_type": "code",
   "execution_count": 8,
   "metadata": {},
   "outputs": [
    {
     "data": {
      "text/plain": [
       "['work_space/save/CheXpert/Rank/2020-07-15_09:01_n=2_vgg16_lr=0.0001_m=_a=0_32_p=False_mean=False_cka=False_pre_pre_layers=-1_pre_steps=50_clean-int-ext=1-1-0_limited=1_rank_alpha=0.2_rank_pearson=0']"
      ]
     },
     "execution_count": 8,
     "metadata": {},
     "output_type": "execute_result"
    }
   ],
   "source": [
    "rank_model_list"
   ]
  },
  {
   "cell_type": "code",
   "execution_count": 20,
   "metadata": {},
   "outputs": [
    {
     "name": "stdout",
     "output_type": "stream",
     "text": [
      "work_space/save/CheXpert/Rank/2020-07-15_09:01_n=2_vgg16_lr=0.0001_m=_a=0_32_p=False_mean=False_cka=False_pre_pre_layers=-1_pre_steps=50_clean-int-ext=1-1-0_limited=1_rank_alpha=0.2_rank_pearson=0\n"
     ]
    },
    {
     "data": {
      "application/vnd.jupyter.widget-view+json": {
       "model_id": "afa97392dbcf4372acde6fca4a66bd18",
       "version_major": 2,
       "version_minor": 0
      },
      "text/plain": [
       "HBox(children=(FloatProgress(value=0.0, max=269.0), HTML(value='')))"
      ]
     },
     "metadata": {},
     "output_type": "display_data"
    },
    {
     "name": "stdout",
     "output_type": "stream",
     "text": [
      "\n"
     ]
    },
    {
     "data": {
      "application/vnd.jupyter.widget-view+json": {
       "model_id": "4e579e28faa94b98ba46a9ac5fae3d30",
       "version_major": 2,
       "version_minor": 0
      },
      "text/plain": [
       "HBox(children=(FloatProgress(value=0.0, max=418.0), HTML(value='')))"
      ]
     },
     "metadata": {},
     "output_type": "display_data"
    },
    {
     "name": "stdout",
     "output_type": "stream",
     "text": [
      "\n"
     ]
    },
    {
     "data": {
      "application/vnd.jupyter.widget-view+json": {
       "model_id": "079bad1c65c642458fb0aed6e918141f",
       "version_major": 2,
       "version_minor": 0
      },
      "text/plain": [
       "HBox(children=(FloatProgress(value=0.0, max=183.0), HTML(value='')))"
      ]
     },
     "metadata": {},
     "output_type": "display_data"
    },
    {
     "name": "stdout",
     "output_type": "stream",
     "text": [
      "\n"
     ]
    },
    {
     "data": {
      "application/vnd.jupyter.widget-view+json": {
       "model_id": "d37124c7a07c4259858b1779e67b45e4",
       "version_major": 2,
       "version_minor": 0
      },
      "text/plain": [
       "HBox(children=(FloatProgress(value=0.0, max=481.0), HTML(value='')))"
      ]
     },
     "metadata": {},
     "output_type": "display_data"
    },
    {
     "name": "stdout",
     "output_type": "stream",
     "text": [
      "\n",
      "[0.774756   0.65358044 0.64272398 0.74383156 0.596118   0.68329861\n",
      " 0.67046825]\n",
      "[0.60182952 0.61193347 0.48740125 0.68074844 0.54540541 0.71683992\n",
      " 0.5249896 ]\n",
      "[0.90188202 0.79297776 0.65506211 0.62285204 0.38919884 0.55188574\n",
      " 0.55106747]\n",
      "0.004241164241164241\n",
      "0.0026779736665922785\n"
     ]
    }
   ],
   "source": [
    "vgg_results = {model:get_model_performance(model, 'vgg16') for model in rank_model_list}"
   ]
  },
  {
   "cell_type": "code",
   "execution_count": 23,
   "metadata": {},
   "outputs": [
    {
     "name": "stdout",
     "output_type": "stream",
     "text": [
      "work_space/save/CheXpert/Rank/2020-07-15_09:01_n=2_vgg16_lr=0.0001_m=_a=0_32_p=False_mean=False_cka=False_pre_pre_layers=-1_pre_steps=50_clean-int-ext=1-1-0_limited=1_rank_alpha=0.2_rank_pearson=0\n"
     ]
    },
    {
     "data": {
      "text/plain": [
       "[0.9201706861005897,\n",
       " 0.9152319333260226,\n",
       " 0.9088149688149688,\n",
       " 0.8861861191698281]"
      ]
     },
     "execution_count": 23,
     "metadata": {},
     "output_type": "execute_result"
    }
   ],
   "source": [
    "for model in vgg_results:\n",
    "    print(model)\n",
    "    get_agreemnet(vgg_results[model])"
   ]
  },
  {
   "cell_type": "code",
   "execution_count": null,
   "metadata": {},
   "outputs": [],
   "source": []
  }
 ],
 "metadata": {
  "kernelspec": {
   "display_name": "Python 3",
   "language": "python",
   "name": "python3"
  },
  "language_info": {
   "codemirror_mode": {
    "name": "ipython",
    "version": 3
   },
   "file_extension": ".py",
   "mimetype": "text/x-python",
   "name": "python",
   "nbconvert_exporter": "python",
   "pygments_lexer": "ipython3",
   "version": "3.7.7"
  }
 },
 "nbformat": 4,
 "nbformat_minor": 4
}
