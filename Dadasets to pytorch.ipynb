{
 "cells": [
  {
   "cell_type": "code",
   "execution_count": 2,
   "metadata": {},
   "outputs": [],
   "source": [
    "%matplotlib inline\n",
    "import numpy as np # linear algebra\n",
    "import pandas as pd # data processing, CSV file I/O (e.g. pd.read_csv)\n",
    "from glob import glob \n",
    "import matplotlib.pyplot as plt\n",
    "import os\n",
    "import pandas as pd\n",
    "import seaborn as sns\n",
    "from itertools import chain\n",
    "from sklearn.model_selection import train_test_split, GroupShuffleSplit\n",
    "import torch\n",
    "from torch.utils.data import Dataset\n",
    "from PIL import Image\n",
    "from torchvision import transforms as trans"
   ]
  },
  {
   "cell_type": "code",
   "execution_count": 57,
   "metadata": {},
   "outputs": [],
   "source": [
    "ImageNet_norm = trans.Normalize(mean=[0.485, 0.456, 0.406], std=[0.229, 0.224, 0.225])\n",
    "ImageNet_trans = {'train':\n",
    "    trans.Compose([\n",
    "        trans.RandomResizedCrop(224),\n",
    "        trans.RandomHorizontalFlip(),\n",
    "        trans.ToTensor(),\n",
    "        ImageNet_norm,\n",
    "    ]),\n",
    "    'test':\n",
    "    trans.Compose([\n",
    "        trans.Resize(256),\n",
    "        trans.TenCrop(224),\n",
    "        trans.Lambda(lambda crops: torch.stack([trans.ToTensor()(crop) for crop in crops])),\n",
    "        trans.Lambda(lambda crops: torch.stack([ImageNet_norm(crop) for crop in crops]))\n",
    "    ])\n",
    "}"
   ]
  },
  {
   "cell_type": "markdown",
   "metadata": {},
   "source": [
    "# NIH"
   ]
  },
  {
   "cell_type": "markdown",
   "metadata": {},
   "source": [
    "To get NIH, you can simple use kaggle:\n",
    "\n",
    "<b><i> kaggle dataset download nih-chest-xrays/data"
   ]
  },
  {
   "cell_type": "code",
   "execution_count": 64,
   "metadata": {},
   "outputs": [],
   "source": [
    "class NIH(Dataset):\n",
    "    def __init__(self, table, transform=None):\n",
    "        self.og_idices = table.index.values\n",
    "        self.image_names = table['Image Index'].values\n",
    "        self.paths = table['path'].values\n",
    "        self.label_encoding = table['Finding Labels'].str.get_dummies(sep='|')\n",
    "        self.label_names = self.label_encoding.columns.values\n",
    "        self.labels = torch.FloatTensor(self.label_encoding.values)\n",
    "        self.transform = transform\n",
    "\n",
    "    def __getitem__(self, index):\n",
    "        image = Image.open(self.paths[index]).convert('RGB')\n",
    "        label = self.labels[index]\n",
    "        if self.transform is not None:\n",
    "            image = self.transform(image)\n",
    "        return image, label\n",
    "\n",
    "    def __len__(self):\n",
    "        return len(self.image_names)"
   ]
  },
  {
   "cell_type": "code",
   "execution_count": 65,
   "metadata": {},
   "outputs": [],
   "source": [
    "def get_nih(seed=2020, filter_=False, filter_=False):\n",
    "    all_xray_df = pd.read_csv('data/NIH/Data_Entry_2017.csv')\n",
    "    all_image_paths = {os.path.basename(x): x for x in \n",
    "                       glob(os.path.join('data/NIH',  'images*', '*', '*.png'))}\n",
    "    print('Scans found:', len(all_image_paths), ', Total Headers', all_xray_df.shape[0])\n",
    "    all_xray_df['path'] = all_xray_df['Image Index'].map(all_image_paths.get)\n",
    "    \n",
    "    # all scans in this dataset are PA/AP\n",
    "    pass\n",
    "\n",
    "    # use filter labels\n",
    "    \n",
    "    \n",
    "    # split train and test by patiant\n",
    "    splitter = GroupShuffleSplit(1, test_size=.3)\n",
    "    id_locs = list(splitter.split(range(len(all_xray_df)), groups=all_xray_df['Patient ID']))[0]\n",
    "    train_df, test_df = all_xray_df.iloc[id_locs[0]], all_xray_df.iloc[id_locs[1]] \n",
    "\n",
    "    return NIH(train_df), NIH(test_df)"
   ]
  },
  {
   "cell_type": "code",
   "execution_count": 95,
   "metadata": {},
   "outputs": [
    {
     "name": "stdout",
     "output_type": "stream",
     "text": [
      "Scans found: 112120 , Total Headers 112120\n"
     ]
    }
   ],
   "source": [
    "train, test = get_nih()"
   ]
  },
  {
   "cell_type": "code",
   "execution_count": 145,
   "metadata": {},
   "outputs": [
    {
     "name": "stdout",
     "output_type": "stream",
     "text": [
      "Scans found: 112120 , Total Headers 112120\n"
     ]
    }
   ],
   "source": [
    "train_df, valid_df, test_df = silly_partition()"
   ]
  },
  {
   "cell_type": "code",
   "execution_count": 66,
   "metadata": {},
   "outputs": [],
   "source": [
    "all_xray_df = pd.read_csv('data/NIH/Data_Entry_2017.csv')"
   ]
  },
  {
   "cell_type": "code",
   "execution_count": 143,
   "metadata": {
    "scrolled": true
   },
   "outputs": [
    {
     "data": {
      "text/plain": [
       "Patient ID\n",
       "12045     57\n",
       "14320     57\n",
       "14125     58\n",
       "20945     58\n",
       "459       58\n",
       "9863      59\n",
       "11355     59\n",
       "13249     59\n",
       "18972     60\n",
       "15605     60\n",
       "13685     60\n",
       "32        60\n",
       "468       60\n",
       "27726     60\n",
       "16410     60\n",
       "16291     60\n",
       "4342      61\n",
       "13774     61\n",
       "6304      61\n",
       "17747     61\n",
       "11683     61\n",
       "7018      61\n",
       "15646     61\n",
       "25849     62\n",
       "20482     62\n",
       "13917     62\n",
       "12087     63\n",
       "18233     63\n",
       "11391     63\n",
       "15732     64\n",
       "        ... \n",
       "22416     83\n",
       "25252     83\n",
       "12021     85\n",
       "4893      85\n",
       "11702     85\n",
       "3028      86\n",
       "10531     87\n",
       "4858      88\n",
       "27213     89\n",
       "22572     89\n",
       "18253     90\n",
       "16587     98\n",
       "4808     101\n",
       "14022    107\n",
       "19176    107\n",
       "6271     107\n",
       "20326    108\n",
       "17236    110\n",
       "21201    113\n",
       "13111    115\n",
       "11237    115\n",
       "17138    116\n",
       "20213    118\n",
       "19124    129\n",
       "1836     136\n",
       "13993    142\n",
       "12834    156\n",
       "15530    157\n",
       "13670    172\n",
       "10007    183\n",
       "Name: Follow-up #, Length: 100, dtype: int64"
      ]
     },
     "execution_count": 143,
     "metadata": {},
     "output_type": "execute_result"
    }
   ],
   "source": [
    "# patiant with the most scans\n",
    "scan_per_id = all_xray_df.groupby('Patient ID')['Follow-up #'].max().sort_values()\n",
    "scan_per_id.iloc[-100:]"
   ]
  },
  {
   "cell_type": "code",
   "execution_count": 144,
   "metadata": {
    "scrolled": true
   },
   "outputs": [
    {
     "data": {
      "text/plain": [
       "Patient ID\n",
       "4893     18\n",
       "30079    18\n",
       "13685    18\n",
       "15605    19\n",
       "13471    19\n",
       "6906     19\n",
       "13894    19\n",
       "23162    19\n",
       "28774    19\n",
       "9608     19\n",
       "1248     19\n",
       "21006    19\n",
       "18610    19\n",
       "2300     19\n",
       "23068    19\n",
       "13615    19\n",
       "1301     19\n",
       "11226    19\n",
       "12021    19\n",
       "5066     19\n",
       "9925     19\n",
       "21457    19\n",
       "18366    19\n",
       "21420    19\n",
       "27415    20\n",
       "3072     20\n",
       "4344     20\n",
       "15770    20\n",
       "14320    20\n",
       "18972    20\n",
       "         ..\n",
       "18253    24\n",
       "10828    24\n",
       "10294    24\n",
       "10092    24\n",
       "13       26\n",
       "19176    26\n",
       "1900     26\n",
       "20213    27\n",
       "16568    27\n",
       "18187    27\n",
       "11925    28\n",
       "16587    28\n",
       "13111    29\n",
       "19373    29\n",
       "21201    29\n",
       "22572    30\n",
       "15530    30\n",
       "19124    30\n",
       "17138    31\n",
       "20326    31\n",
       "14022    32\n",
       "13670    32\n",
       "11702    33\n",
       "13993    33\n",
       "8841     33\n",
       "16778    34\n",
       "26451    35\n",
       "1836     38\n",
       "10007    42\n",
       "12834    44\n",
       "Name: Finding Labels, Length: 100, dtype: int64"
      ]
     },
     "execution_count": 144,
     "metadata": {},
     "output_type": "execute_result"
    }
   ],
   "source": [
    "n_diagnosis_per_id = all_xray_df.groupby('Patient ID')['Finding Labels'].unique().apply(lambda x: len(x)).sort_values()\n",
    "n_diagnosis_per_id.iloc[-100:]"
   ]
  },
  {
   "cell_type": "markdown",
   "metadata": {},
   "source": [
    "# CheXpert"
   ]
  },
  {
   "cell_type": "markdown",
   "metadata": {},
   "source": [
    "To get CheXpert, you can simple use wget:\n",
    "\n",
    "<b><i> wget http://download.cs.stanford.edu/deep/CheXpert-v1.0-small.zip (10g)\n",
    "    \n",
    "<b><i> wget http://download.cs.stanford.edu/deep/CheXpert-v1.0.zip (440g)\n"
   ]
  },
  {
   "cell_type": "code",
   "execution_count": 98,
   "metadata": {
    "scrolled": false
   },
   "outputs": [
    {
     "data": {
      "text/html": [
       "<img src=\"https://stanfordmlgroup.github.io/competitions/chexpert/img/figure1.png\" width=\"500\" height=\"500\"/>"
      ],
      "text/plain": [
       "<IPython.core.display.Image object>"
      ]
     },
     "execution_count": 98,
     "metadata": {},
     "output_type": "execute_result"
    }
   ],
   "source": [
    "from IPython.display import Image\n",
    "from IPython.core.display import HTML \n",
    "Image(url= \"https://stanfordmlgroup.github.io/competitions/chexpert/img/figure1.png\", width=500, height=500)"
   ]
  },
  {
   "cell_type": "code",
   "execution_count": 111,
   "metadata": {},
   "outputs": [],
   "source": [
    "class CheXpert(Dataset):\n",
    "    def __init__(self, table, transform=None, policy=1):\n",
    "        self.label_names = table.columns[2:].values\n",
    "        self.paths = table['Path'].values\n",
    "        self.mapping = dict({1: 1, 0: 0, -1: policy})\n",
    "        self.labels = torch.FloatTensor(table[self.label_names].fillna(0).applymap(lambda x: self.mapping[x]).values)\n",
    "        self.transform = transform\n",
    "\n",
    "    def __getitem__(self, index):\n",
    "        image = Image.open(self.paths[index]).convert('RGB')\n",
    "        label = self.labels[index]\n",
    "        if self.transform is not None:\n",
    "            image = self.transform(image)\n",
    "        return image, label.float()\n",
    "\n",
    "    def __len__(self):\n",
    "        return len(self.paths)\n",
    "\n",
    "\n",
    "def get_chexpert(seed=2020, policy=1, transform=None, \n",
    "                 No_finding=True, parenchymal=True, extraparenchymal=True, limit_out_labels=True):    \n",
    "    Parenchymal = [ # i.e. findings in the lungs themselves\n",
    "    'Lung Lesion',\n",
    "    'Lung Opacity',\n",
    "    'Edema',\n",
    "    'Consolidation',\n",
    "    'Pneumonia',\n",
    "    'Atelectasis',\n",
    "    ]\n",
    "\n",
    "    Extraparenchymal = [ # i.e. findings outside the lungs\n",
    "    'Support Devices',\n",
    "    'Pleural Effusion',\n",
    "    'Pleural Other',\n",
    "    'Pneumothorax',\n",
    "    'Cardiomegaly',\n",
    "    'Enlarged Cardiomediastinum',\n",
    "    'Fracture',\n",
    "    ]\n",
    "    \n",
    "    labels = ['No Finding'] if No_finding else []\n",
    "    labels = labels + Parenchymal if parenchymal else labels\n",
    "    labels = labels + Extraparenchymal if extraparenchymal else labels\n",
    "    \n",
    "    out_labels = []  # 'No Finding' can never be OOD, as it is alway in-dist phen\n",
    "    out_labels = out_labels + Parenchymal if not parenchymal else out_labels\n",
    "    out_labels = out_labels + Extraparenchymal if not extraparenchymal else out_labels \n",
    "    \n",
    "    cheXpert_train = pd.read_csv('data/CheXpert-v1.0-small/train.csv')\n",
    "    cheXpert_test = pd.read_csv('data/CheXpert-v1.0-small/valid.csv')\n",
    "    cheXpert = pd.concat([cheXpert_train, cheXpert_test]).reset_index(drop=True)\n",
    "    cheXpert['Path'] = cheXpert['Path'].apply(lambda x: 'data/' + x)\n",
    "    cheXpert['Patient ID'] = cheXpert['Path'].str.extract(r'patient([0-9]+)\\/').astype(int).values\n",
    "    column_set = ['Path', 'Patient ID'] + labels\n",
    "    \n",
    "    # drop lateral views (eq to Frontal/Lateral == Frontal)\n",
    "    cheXpert = cheXpert[~cheXpert['AP/PA'].isna()]  \n",
    "    \n",
    "    # label policy - uncertine labels should be counted as:\n",
    "    mapping = dict({1: 1, 0: 0, -1: policy})\n",
    "    cheXpert[labels + out_labels] = cheXpert[labels + out_labels].fillna(0).applymap(lambda x: mapping[x]).values\n",
    "    \n",
    "    # limit dataset to places with no positive from the out labels\n",
    "    if limit_out_labels:\n",
    "        ood_exists = cheXpert[out_labels].sum(axis=1) > 0\n",
    "        cheXpert_out = cheXpert[ood_exists]    \n",
    "        in_exists = cheXpert_out[labels].sum(axis=1) > 0\n",
    "        cheXpert_out_in = cheXpert_out[in_exists]\n",
    "        cheXpert_out_out = cheXpert_out[~in_exists]\n",
    "        cheXpert = cheXpert[~ood_exists]\n",
    "    else:\n",
    "        ood_exists = (cheXpert[out_labels].sum(axis=1) > 0) & (cheXpert[labels].sum(axis=1) < 1)\n",
    "        cheXpert_out = cheXpert[ood_exists]    \n",
    "        cheXpert = cheXpert[~ood_exists]\n",
    "        cheXpert_out_in = pd.DataFrame([], columns=cheXpert_out.columns)\n",
    "        cheXpert_out_out = cheXpert_out\n",
    "         \n",
    "    # split test train by identities \n",
    "    splitter = GroupShuffleSplit(1, test_size=.3, random_state=seed)\n",
    "    id_locs = list(splitter.split(range(len(cheXpert)), groups=cheXpert['Patient ID']))[0]\n",
    "    train_df, test_df = cheXpert.iloc[id_locs[0]][column_set], cheXpert.iloc[id_locs[1]][column_set]\n",
    "    \n",
    "    return (CheXpert(train_df, transform=transform, policy=policy), \n",
    "            CheXpert(test_df, transform=transform, policy=policy),\n",
    "            cheXpert_out_in,\n",
    "            cheXpert_out_out)"
   ]
  },
  {
   "cell_type": "code",
   "execution_count": 3,
   "metadata": {
    "scrolled": true
   },
   "outputs": [],
   "source": [
    "cheXpert_train = pd.read_csv('data/CheXpert-v1.0-small/train.csv')\n",
    "cheXpert_test = pd.read_csv('data/CheXpert-v1.0-small/valid.csv')\n",
    "cheXpert = pd.concat([cheXpert_train, cheXpert_test]).reset_index(drop=True)"
   ]
  },
  {
   "cell_type": "code",
   "execution_count": 322,
   "metadata": {},
   "outputs": [],
   "source": [
    "cheXpert['id'] = cheXpert['Path'].str.extract(r'patient([0-9]+)\\/').astype(int).values"
   ]
  },
  {
   "cell_type": "code",
   "execution_count": 9,
   "metadata": {},
   "outputs": [
    {
     "data": {
      "text/html": [
       "<div>\n",
       "<style scoped>\n",
       "    .dataframe tbody tr th:only-of-type {\n",
       "        vertical-align: middle;\n",
       "    }\n",
       "\n",
       "    .dataframe tbody tr th {\n",
       "        vertical-align: top;\n",
       "    }\n",
       "\n",
       "    .dataframe thead th {\n",
       "        text-align: right;\n",
       "    }\n",
       "</style>\n",
       "<table border=\"1\" class=\"dataframe\">\n",
       "  <thead>\n",
       "    <tr style=\"text-align: right;\">\n",
       "      <th></th>\n",
       "      <th>Sex</th>\n",
       "      <th>AP/PA</th>\n",
       "    </tr>\n",
       "  </thead>\n",
       "  <tbody>\n",
       "    <tr>\n",
       "      <th>0</th>\n",
       "      <td>Female</td>\n",
       "      <td>AP</td>\n",
       "    </tr>\n",
       "    <tr>\n",
       "      <th>1</th>\n",
       "      <td>Female</td>\n",
       "      <td>AP</td>\n",
       "    </tr>\n",
       "    <tr>\n",
       "      <th>2</th>\n",
       "      <td>Female</td>\n",
       "      <td>AP</td>\n",
       "    </tr>\n",
       "    <tr>\n",
       "      <th>4</th>\n",
       "      <td>Male</td>\n",
       "      <td>AP</td>\n",
       "    </tr>\n",
       "    <tr>\n",
       "      <th>5</th>\n",
       "      <td>Female</td>\n",
       "      <td>PA</td>\n",
       "    </tr>\n",
       "    <tr>\n",
       "      <th>...</th>\n",
       "      <td>...</td>\n",
       "      <td>...</td>\n",
       "    </tr>\n",
       "    <tr>\n",
       "      <th>223409</th>\n",
       "      <td>Male</td>\n",
       "      <td>AP</td>\n",
       "    </tr>\n",
       "    <tr>\n",
       "      <th>223410</th>\n",
       "      <td>Male</td>\n",
       "      <td>AP</td>\n",
       "    </tr>\n",
       "    <tr>\n",
       "      <th>223411</th>\n",
       "      <td>Female</td>\n",
       "      <td>AP</td>\n",
       "    </tr>\n",
       "    <tr>\n",
       "      <th>223412</th>\n",
       "      <td>Female</td>\n",
       "      <td>AP</td>\n",
       "    </tr>\n",
       "    <tr>\n",
       "      <th>223413</th>\n",
       "      <td>Female</td>\n",
       "      <td>AP</td>\n",
       "    </tr>\n",
       "  </tbody>\n",
       "</table>\n",
       "<p>191027 rows × 2 columns</p>\n",
       "</div>"
      ],
      "text/plain": [
       "           Sex AP/PA\n",
       "0       Female    AP\n",
       "1       Female    AP\n",
       "2       Female    AP\n",
       "4         Male    AP\n",
       "5       Female    PA\n",
       "...        ...   ...\n",
       "223409    Male    AP\n",
       "223410    Male    AP\n",
       "223411  Female    AP\n",
       "223412  Female    AP\n",
       "223413  Female    AP\n",
       "\n",
       "[191027 rows x 2 columns]"
      ]
     },
     "execution_count": 9,
     "metadata": {},
     "output_type": "execute_result"
    }
   ],
   "source": [
    "cheXpert_train[['Sex', 'AP/PA']].dropna()"
   ]
  },
  {
   "cell_type": "markdown",
   "metadata": {},
   "source": [
    "### making sure label limitation is bugless"
   ]
  },
  {
   "cell_type": "code",
   "execution_count": 112,
   "metadata": {
    "scrolled": true
   },
   "outputs": [
    {
     "name": "stdout",
     "output_type": "stream",
     "text": [
      "134020 57209 0 0\n",
      "191229\n",
      "134020 57209 0 0\n",
      "191229\n"
     ]
    }
   ],
   "source": [
    "train_df, test_df, out_in, out_out = get_chexpert(No_finding=True, parenchymal=True, extraparenchymal=True)\n",
    "print(len(train_df), len(test_df), len(out_in), len(out_out))\n",
    "print(sum([len(train_df), len(test_df), len(out_in), len(out_out)]))\n",
    "# should not change\n",
    "train_df, test_df, out_in, out_out = get_chexpert(No_finding=False, parenchymal=True, extraparenchymal=True)\n",
    "print(len(train_df), len(test_df), len(out_in), len(out_out))\n",
    "print(sum([len(train_df), len(test_df), len(out_in), len(out_out)]))"
   ]
  },
  {
   "cell_type": "code",
   "execution_count": 92,
   "metadata": {
    "scrolled": true
   },
   "outputs": [
    {
     "name": "stdout",
     "output_type": "stream",
     "text": [
      "22775 9966 134438 24050\n",
      "191229\n",
      "117433 49746 0 24050\n",
      "191229\n"
     ]
    }
   ],
   "source": [
    "# sum should not change\n",
    "train_df, test_df, out_in, out_out = get_chexpert(No_finding=True, parenchymal=True, extraparenchymal=False)\n",
    "print(len(train_df), len(test_df), len(out_in), len(out_out))\n",
    "print(sum([len(train_df), len(test_df), len(out_in), len(out_out)]))\n",
    "\n",
    "# sum should not change\n",
    "train_df, test_df, out_in, out_out = get_chexpert(No_finding=True, parenchymal=True, extraparenchymal=False,\n",
    "                                                  limit_out_labels=False)\n",
    "print(len(train_df), len(test_df), len(out_in), len(out_out))\n",
    "print(sum([len(train_df), len(test_df), len(out_in), len(out_out)]))"
   ]
  },
  {
   "cell_type": "code",
   "execution_count": 94,
   "metadata": {},
   "outputs": [
    {
     "name": "stdout",
     "output_type": "stream",
     "text": [
      "30661 13154 126938 20476\n",
      "191229\n",
      "117433 49746 0 24050\n",
      "191229\n"
     ]
    }
   ],
   "source": [
    "# sum should not change\n",
    "train_df, test_df, out_in, out_out = get_chexpert(No_finding=True, parenchymal=False, extraparenchymal=True)\n",
    "print(len(train_df), len(test_df), len(out_in), len(out_out))\n",
    "print(sum([len(train_df), len(test_df), len(out_in), len(out_out)]))\n",
    "\n",
    "# sum should not change\n",
    "train_df, test_df, out_in, out_out = get_chexpert(No_finding=True, parenchymal=True, extraparenchymal=False,\n",
    "                                                 limit_out_labels=False)\n",
    "print(len(train_df), len(test_df), len(out_in), len(out_out))\n",
    "print(sum([len(train_df), len(test_df), len(out_in), len(out_out)]))"
   ]
  },
  {
   "cell_type": "markdown",
   "metadata": {},
   "source": [
    "### some data aware questions"
   ]
  },
  {
   "cell_type": "code",
   "execution_count": 312,
   "metadata": {
    "scrolled": false
   },
   "outputs": [
    {
     "data": {
      "text/plain": [
       "Text(0,0.5,'paitiant count')"
      ]
     },
     "execution_count": 312,
     "metadata": {},
     "output_type": "execute_result"
    },
    {
     "data": {
      "image/png": "[encoded data removed]",
      "text/plain": [
       "<Figure size 432x288 with 1 Axes>"
      ]
     },
     "metadata": {},
     "output_type": "display_data"
    }
   ],
   "source": [
    "cheXpert['id'].value_counts().hist(bins=100, grid=False)\n",
    "plt.yscale('log')\n",
    "plt.title('histogram of paitiants binned by number of scans')\n",
    "plt.xlabel('number of scans/follow-ups')\n",
    "plt.ylabel('paitiant count')"
   ]
  },
  {
   "cell_type": "code",
   "execution_count": 100,
   "metadata": {
    "scrolled": false
   },
   "outputs": [
    {
     "data": {
      "text/plain": [
       "Text(0.5,1,'num of labels hist')"
      ]
     },
     "execution_count": 100,
     "metadata": {},
     "output_type": "execute_result"
    },
    {
     "data": {
      "image/png": "[encoded data removed]",
      "text/plain": [
       "<Figure size 432x288 with 1 Axes>"
      ]
     },
     "metadata": {},
     "output_type": "display_data"
    }
   ],
   "source": [
    "cheXpert[cheXpert.columns[5:]].abs().sum(axis=1).hist(grid=False, bins=10)\n",
    "plt.title('num of labels hist')"
   ]
  },
  {
   "cell_type": "code",
   "execution_count": 280,
   "metadata": {},
   "outputs": [
    {
     "data": {
      "text/plain": [
       "Text(0.5,1,'CheXpert conditions over scan type')"
      ]
     },
     "execution_count": 280,
     "metadata": {},
     "output_type": "execute_result"
    },
    {
     "data": {
      "image/png": "[encoded data removed]",
      "text/plain": [
       "<Figure size 432x288 with 1 Axes>"
      ]
     },
     "metadata": {},
     "output_type": "display_data"
    }
   ],
   "source": [
    "fig = sns.barplot(x='level_1', y=0, hue='Frontal/Lateral', data=pd.DataFrame(target_table.T.unstack()).reset_index())\n",
    "fig.set_xticklabels(fig.get_xticklabels(), rotation=90)\n",
    "plt.ylabel('absolute count')\n",
    "plt.xlabel('condition')\n",
    "plt.title('CheXpert conditions over scan type')"
   ]
  },
  {
   "cell_type": "code",
   "execution_count": 316,
   "metadata": {},
   "outputs": [
    {
     "data": {
      "text/plain": [
       "Text(0.5,1,'CheXpert conditions over scan type (ratio from font/back)')"
      ]
     },
     "execution_count": 316,
     "metadata": {},
     "output_type": "execute_result"
    },
    {
     "data": {
      "image/png": "[encoded data removed]",
      "text/plain": [
       "<Figure size 432x288 with 1 Axes>"
      ]
     },
     "metadata": {},
     "output_type": "display_data"
    }
   ],
   "source": [
    "normalized = (target_table.T / target_table.sum(axis=1)).T\n",
    "fig = sns.barplot(x='level_1', y=0, hue='Frontal/Lateral', data=pd.DataFrame(normalized.T.unstack()).reset_index())\n",
    "fig.set_xticklabels(fig.get_xticklabels(), rotation=90)\n",
    "plt.ylabel('ratio in group type')\n",
    "plt.xlabel('condition')\n",
    "plt.title('CheXpert conditions over scan type (ratio from font/back)')"
   ]
  },
  {
   "cell_type": "code",
   "execution_count": 318,
   "metadata": {
    "scrolled": false
   },
   "outputs": [
    {
     "data": {
      "text/plain": [
       "Text(0.5,1,'CheXpert conditions over scan type (ratio by condition)')"
      ]
     },
     "execution_count": 318,
     "metadata": {},
     "output_type": "execute_result"
    },
    {
     "data": {
      "image/png": "[encoded data removed]",
      "text/plain": [
       "<Figure size 432x288 with 1 Axes>"
      ]
     },
     "metadata": {},
     "output_type": "display_data"
    }
   ],
   "source": [
    "normalized = (target_table / target_table.sum(axis=0))\n",
    "fig = sns.barplot(x='level_1', y=0, hue='Frontal/Lateral', data=pd.DataFrame(normalized.T.unstack()).reset_index())\n",
    "fig.set_xticklabels(fig.get_xticklabels(), rotation=90)\n",
    "plt.ylabel('ratio in condition')\n",
    "plt.xlabel('condition')\n",
    "plt.title('CheXpert conditions over scan type (ratio by condition)')"
   ]
  },
  {
   "cell_type": "code",
   "execution_count": 102,
   "metadata": {},
   "outputs": [],
   "source": [
    "# label questions\n",
    "Parenchymal = [ # i.e. findings in the lungs themselves\n",
    "'Lung Lesion',\n",
    "'Lung Opacity',\n",
    "'Edema',\n",
    "'Consolidation',\n",
    "'Pneumonia',\n",
    "'Atelectasis',\n",
    "]\n",
    "\n",
    "Extraparenchymal = [ # i.e. findings outside the lungs\n",
    "'Support Devices',\n",
    "'Pleural Effusion',\n",
    "'Pleural Other',\n",
    "'Pneumothorax',\n",
    "'Cardiomegaly',\n",
    "'Enlarged Cardiomediastinum',\n",
    "'Fracture',\n",
    "]"
   ]
  },
  {
   "cell_type": "code",
   "execution_count": 109,
   "metadata": {},
   "outputs": [
    {
     "data": {
      "text/html": [
       "<div>\n",
       "<style scoped>\n",
       "    .dataframe tbody tr th:only-of-type {\n",
       "        vertical-align: middle;\n",
       "    }\n",
       "\n",
       "    .dataframe tbody tr th {\n",
       "        vertical-align: top;\n",
       "    }\n",
       "\n",
       "    .dataframe thead th {\n",
       "        text-align: right;\n",
       "    }\n",
       "</style>\n",
       "<table border=\"1\" class=\"dataframe\">\n",
       "  <thead>\n",
       "    <tr style=\"text-align: right;\">\n",
       "      <th></th>\n",
       "      <th>Lung Lesion</th>\n",
       "      <th>Edema</th>\n",
       "      <th>Consolidation</th>\n",
       "      <th>Pneumonia</th>\n",
       "      <th>Atelectasis</th>\n",
       "    </tr>\n",
       "    <tr>\n",
       "      <th>Lung Opacity</th>\n",
       "      <th></th>\n",
       "      <th></th>\n",
       "      <th></th>\n",
       "      <th></th>\n",
       "      <th></th>\n",
       "    </tr>\n",
       "  </thead>\n",
       "  <tbody>\n",
       "    <tr>\n",
       "      <th>0.0</th>\n",
       "      <td>4226.0</td>\n",
       "      <td>27394.0</td>\n",
       "      <td>16542.0</td>\n",
       "      <td>4749.0</td>\n",
       "      <td>25523.0</td>\n",
       "    </tr>\n",
       "    <tr>\n",
       "      <th>1.0</th>\n",
       "      <td>6449.0</td>\n",
       "      <td>37881.0</td>\n",
       "      <td>26016.0</td>\n",
       "      <td>20068.0</td>\n",
       "      <td>41672.0</td>\n",
       "    </tr>\n",
       "  </tbody>\n",
       "</table>\n",
       "</div>"
      ],
      "text/plain": [
       "              Lung Lesion    Edema  Consolidation  Pneumonia  Atelectasis\n",
       "Lung Opacity                                                             \n",
       "0.0                4226.0  27394.0        16542.0     4749.0      25523.0\n",
       "1.0                6449.0  37881.0        26016.0    20068.0      41672.0"
      ]
     },
     "execution_count": 109,
     "metadata": {},
     "output_type": "execute_result"
    }
   ],
   "source": [
    "cheXpert[Parenchymal].fillna(0).abs().groupby('Lung Opacity').sum()"
   ]
  },
  {
   "cell_type": "markdown",
   "metadata": {},
   "source": [
    "## morph calibration"
   ]
  },
  {
   "cell_type": "code",
   "execution_count": 6,
   "metadata": {},
   "outputs": [],
   "source": [
    "image_path = 'data/morph_example/00024_og.jpg'"
   ]
  },
  {
   "cell_type": "code",
   "execution_count": 12,
   "metadata": {
    "scrolled": true
   },
   "outputs": [],
   "source": [
    "source = Image.open(image_path)"
   ]
  },
  {
   "cell_type": "code",
   "execution_count": 20,
   "metadata": {},
   "outputs": [],
   "source": [
    "from Datasets import ImageNet_norm\n",
    "import cv2\n",
    "pre = trans.Compose([\n",
    "        trans.RandomResizedCrop(224, scale=(1, 1)),\n",
    "        trans.RandomHorizontalFlip(),\n",
    "        trans.ToTensor(),\n",
    "        #ImageNet_norm,\n",
    "])\n"
   ]
  },
  {
   "cell_type": "code",
   "execution_count": 22,
   "metadata": {},
   "outputs": [],
   "source": [
    "res_tensor = cv2.blur(pre(source).cpu().data.numpy()[0], (17, 17))"
   ]
  },
  {
   "cell_type": "code",
   "execution_count": 26,
   "metadata": {},
   "outputs": [],
   "source": [
    "dst_im = (res_tensor[None, :].transpose(1, 2, 0) * 255).astype(np.uint8)"
   ]
  },
  {
   "cell_type": "code",
   "execution_count": 47,
   "metadata": {
    "scrolled": false
   },
   "outputs": [
    {
     "data": {
      "image/png": "[encoded data removed]",
      "text/plain": [
       "<PIL.Image.Image image mode=L size=224x224 at 0x7F1F080A8CF8>"
      ]
     },
     "execution_count": 47,
     "metadata": {},
     "output_type": "execute_result"
    }
   ],
   "source": [
    "trans.ToPILImage()(dst_im)"
   ]
  },
  {
   "cell_type": "markdown",
   "metadata": {},
   "source": [
    "# mimic"
   ]
  },
  {
   "cell_type": "markdown",
   "metadata": {},
   "source": [
    "mimic is problematic. use and account and follow the commands below"
   ]
  },
  {
   "cell_type": "code",
   "execution_count": 58,
   "metadata": {},
   "outputs": [],
   "source": [
    "sample_path = 'data/MIMIC/physionet.org/files/mimic-cxr-jpg/2.0.0/files/p11/p11413236/s52541396/'\n",
    "sample_a = sample_path+'35a29873-f440b817-77e9b07e-ebd31997-8c62d96e.jpg'\n",
    "sample_b = sample_path+'46bdab14-1fa0233c-c0b0841d-4c0869de-6564ff0d.jpg'"
   ]
  },
  {
   "cell_type": "code",
   "execution_count": 112,
   "metadata": {},
   "outputs": [],
   "source": [
    "import tqdm\n",
    "from PIL import Image\n",
    "import subprocess"
   ]
  },
  {
   "cell_type": "code",
   "execution_count": 111,
   "metadata": {},
   "outputs": [
    {
     "data": {
      "text/plain": [
       "<bound method Image.save of <PIL.Image.Image image mode=L size=1201x1000 at 0x7F1EB1D69668>>"
      ]
     },
     "execution_count": 111,
     "metadata": {},
     "output_type": "execute_result"
    }
   ],
   "source": [
    "resize_func(im).save"
   ]
  },
  {
   "cell_type": "code",
   "execution_count": 66,
   "metadata": {},
   "outputs": [],
   "source": [
    "ftp_path = 'https://physionet.org/files/mimic-cxr-jpg/2.0.0/'\n",
    "im_dirs = ['files/p'+str(10+x) for x in range(10)]\n",
    "other_files= [\n",
    "    'SHA256SUMS.txt'\n",
    "    'mimic-cxr-2.0.0-chexpert.csv.gz'\n",
    "    'mimic-cxr-2.0.0-metadata.csv.gz'\n",
    "    'mimic-cxr-2.0.0-negbio.csv.gz'\n",
    "    'mimic-cxr-2.0.0-split.csv.gz'\n",
    "]\n",
    "command = 'wget -r -N -R html,tmp --convert-links -c -np --user paulyi88 --password j1gg@012'"
   ]
  },
  {
   "cell_type": "code",
   "execution_count": 113,
   "metadata": {},
   "outputs": [],
   "source": [
    "counter = 0\n",
    "for curr_dir, dirs_in_curr_dir, files in os.walk('data/MIMIC/physionet.org/files/mimic-cxr-jpg/2.0.0/files/'):\n",
    "    for file in files:\n",
    "        if '.jpg' in file:\n",
    "            counter += 1"
   ]
  },
  {
   "cell_type": "code",
   "execution_count": null,
   "metadata": {},
   "outputs": [
    {
     "data": {
      "application/vnd.jupyter.widget-view+json": {
       "model_id": "abf3b82f4eeb44c1bc40815a9f1cc8a0",
       "version_major": 2,
       "version_minor": 0
      },
      "text/plain": [
       "HBox(children=(IntProgress(value=0, max=38535), HTML(value='')))"
      ]
     },
     "metadata": {},
     "output_type": "display_data"
    }
   ],
   "source": [
    "root = 'data/MIMIC/physionet.org/files/mimic-cxr-jpg/2.0.0/'\n",
    "def resize_dir(root, target_size=1024):\n",
    "    bar = tqdm.tqdm_notebook(total=counter)\n",
    "    for curr_dir, dirs_in_curr_dir, files in os.walk(root):\n",
    "        for file in files:\n",
    "            if '.jpg' in file:\n",
    "                im = Image.open(os.path.join(curr_dir, file))\n",
    "                resize_func = trans.Resize(min(target_size, max(im.size)))\n",
    "                resize_func(im).save(os.path.join(curr_dir, file))\n",
    "                bar.update(1)"
   ]
  },
  {
   "cell_type": "code",
   "execution_count": null,
   "metadata": {},
   "outputs": [],
   "source": [
    "# download metadata\n",
    "for file for other_files:\n",
    "    subprocess.call(command + ' ' + ftp_path+file, shell=True)"
   ]
  },
  {
   "cell_type": "code",
   "execution_count": 77,
   "metadata": {},
   "outputs": [
    {
     "data": {
      "text/plain": [
       "('data/MIMIC/physionet.org/files/mimic-cxr-jpg/2.0.0/files/p11/p11413236/s52541396/',\n",
       " [],\n",
       " ['35a29873-f440b817-77e9b07e-ebd31997-8c62d96e.jpg',\n",
       "  '46bdab14-1fa0233c-c0b0841d-4c0869de-6564ff0d.jpg'])"
      ]
     },
     "execution_count": 77,
     "metadata": {},
     "output_type": "execute_result"
    }
   ],
   "source": [
    "# download images\n",
    "for im_dir for im_dirs:\n",
    "    subprocess.call(command + ' ' + ftp_path+imdir, shell=True)\n",
    "    print(im_dir)\n",
    "    resize_dir(root+imdir)"
   ]
  },
  {
   "cell_type": "code",
   "execution_count": null,
   "metadata": {},
   "outputs": [],
   "source": []
  }
 ],
 "metadata": {
  "kernelspec": {
   "display_name": "Python 3",
   "language": "python",
   "name": "python3"
  },
  "language_info": {
   "codemirror_mode": {
    "name": "ipython",
    "version": 3
   },
   "file_extension": ".py",
   "mimetype": "text/x-python",
   "name": "python",
   "nbconvert_exporter": "python",
   "pygments_lexer": "ipython3",
   "version": "3.7.7"
  }
 },
 "nbformat": 4,
 "nbformat_minor": 2
}
